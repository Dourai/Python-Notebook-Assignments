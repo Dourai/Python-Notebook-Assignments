{
 "cells": [
  {
   "cell_type": "code",
   "execution_count": 13,
   "id": "ebade856-991a-4c9c-9bd9-c133fbc5c0b1",
   "metadata": {},
   "outputs": [],
   "source": [
    "#Author: Daniel J. Ourai\n",
    "#Activity: 7.4\n",
    "#Date: 4/3/2024\n",
    "#Description: This code simply creates a list of \"things\".\n",
    "\n",
    "things = [\"mozzarella\", \"cinderella\", \"salmonella\"]"
   ]
  },
  {
   "cell_type": "markdown",
   "id": "fe135bed-6764-45e4-bc26-608e8515fd9a",
   "metadata": {},
   "source": [
    "Above is activity 7.4. In this activity we made a list called things that contains the elements mozzerella, cinderella , and salmonella."
   ]
  },
  {
   "cell_type": "code",
   "execution_count": 14,
   "id": "ec154027-a924-4b46-b029-d4ce1bbd86fb",
   "metadata": {},
   "outputs": [
    {
     "name": "stdout",
     "output_type": "stream",
     "text": [
      "['mozzarella', 'Cinderella', 'salmonella']\n"
     ]
    }
   ],
   "source": [
    "#Author: Daniel J. Ourai\n",
    "#Activity: 7.5\n",
    "#Date: 4/3/2024\n",
    "#Description: This code will capitalize the element \"cinderella\" in the list things, and then print the modified list. Let's see the output.\n",
    "things = [\"mozzarella\", \"cinderella\", \"salmonella\"]\n",
    "\n",
    "for i in range(len(things)):\n",
    "    if things[i].startswith('c'):\n",
    "        things[i] = things[i].capitalize()\n",
    "\n",
    "print(things)"
   ]
  },
  {
   "cell_type": "markdown",
   "id": "394a00e1-cb49-466f-a96b-5e7d7d983734",
   "metadata": {},
   "source": [
    "Above is activty 7.5. In this activity we capatalized the element that was a persons name (Cinderella) and printed the list of things after."
   ]
  },
  {
   "cell_type": "code",
   "execution_count": 15,
   "id": "3e1193f7-5707-47ca-8013-40718ba8ccbb",
   "metadata": {},
   "outputs": [
    {
     "name": "stdout",
     "output_type": "stream",
     "text": [
      "['MOZZARELLA', 'cinderella', 'salmonella']\n"
     ]
    }
   ],
   "source": [
    "#Author: Daniel J. Ourai\n",
    "#Activity: 7.6\n",
    "#Date: 4/3/2024\n",
    "#Description: This code will make the element \"mozzarella\" uppercase in the list things, and then print the modified list. Let's see the output.\n",
    "\n",
    "things = [\"mozzarella\", \"cinderella\", \"salmonella\"]\n",
    "\n",
    "# Find the cheesy element \n",
    "cheesy_index = things.index(\"mozzarella\")\n",
    "things[cheesy_index] = things[cheesy_index].upper()\n",
    "\n",
    "print(things)"
   ]
  },
  {
   "cell_type": "markdown",
   "id": "396186a5-cc96-4d6e-9383-7bbdbbeedd07",
   "metadata": {},
   "source": [
    "Above is activty 7.6. In this activity we capitalized all letters of all cheesy things in the list. This resulted in mozzarella being changed to \"MOZZARELLA\". We then printed the list of elements."
   ]
  },
  {
   "cell_type": "code",
   "execution_count": 16,
   "id": "4057a4a6-1d22-4e12-9d7b-3004a0aee819",
   "metadata": {},
   "outputs": [
    {
     "name": "stdout",
     "output_type": "stream",
     "text": [
      "['mozzarella', 'cinderella']\n"
     ]
    }
   ],
   "source": [
    "#Author: Daniel J. Ourai\n",
    "#Activity: 7.7\n",
    "#Date: 4/3/2024\n",
    "#Description: This code will remove the element \"salmonella\" from the list things and then print the modified list. Let's see the output.\n",
    "\n",
    "things = [\"mozzarella\", \"cinderella\", \"salmonella\"]\n",
    "\n",
    "# Remove the disease element \n",
    "things.remove(\"salmonella\")\n",
    "\n",
    "print(things)"
   ]
  },
  {
   "cell_type": "markdown",
   "id": "cad80d6c-6fc2-44a8-9af6-1c532cca0ea9",
   "metadata": {},
   "source": [
    "Above is activty 7.7. In this activty we removed the element in the list that correleated to a disease (salmonella) and then printed the list of things."
   ]
  },
  {
   "cell_type": "code",
   "execution_count": 17,
   "id": "a7abefec-c8d5-4e33-acf9-8ddf8700046c",
   "metadata": {},
   "outputs": [
    {
     "name": "stdout",
     "output_type": "stream",
     "text": [
      "['Harry', 'Ron', 'Hermione']\n"
     ]
    }
   ],
   "source": [
    "#Author: Daniel J. Ourai\n",
    "#Activity: 9.1\n",
    "#Date: 4/3/2024\n",
    "#Description: When you call the good() function, it will return the list ['Harry', 'Ron', 'Hermione'].\n",
    "\n",
    "def good():\n",
    "    return ['Harry', 'Ron', 'Hermione']\n",
    "\n",
    "# Test the function\n",
    "print(good())"
   ]
  },
  {
   "cell_type": "markdown",
   "id": "6000a193-dd90-4491-8bbf-8afd6eb74693",
   "metadata": {},
   "source": [
    "Above is activty 9.1. In this activity we created a function that returns the list of Harry, Ron, and Hermione (Harry Potter characters)."
   ]
  },
  {
   "cell_type": "code",
   "execution_count": 18,
   "id": "1b2c3826-9d24-4d7d-91a9-b1c66ce04dab",
   "metadata": {},
   "outputs": [
    {
     "name": "stdout",
     "output_type": "stream",
     "text": [
      "The third odd number is: 5\n"
     ]
    }
   ],
   "source": [
    "#Author: Daniel J. Ourai\n",
    "#Activity: 9.2\n",
    "#Date: 4/3/2024\n",
    "#Description: This code defines the get_odds() generator function, which yields odd numbers from the range(10) sequence. \n",
    "#Then, it iterates over the generator using a for loop, keeping track of the count of iterations. When the count reaches 3, \n",
    "#it prints the third odd number and breaks out of the loop.\n",
    "\n",
    "def get_odds():\n",
    "    for num in range(1, 10, 2):\n",
    "        yield num\n",
    "\n",
    "# Use a for loop to find and print the third value returned\n",
    "count = 0\n",
    "for odd_num in get_odds():\n",
    "    count += 1\n",
    "    if count == 3:\n",
    "        print(\"The third odd number is:\", odd_num)\n",
    "        break"
   ]
  },
  {
   "cell_type": "markdown",
   "id": "d8a3a206-8fe2-4b8e-8cf5-b2d613e3e36e",
   "metadata": {},
   "source": [
    "Above is activity 9.2. In this activity we created a function that will pull random odd numbers in a specified range. On the third loop of the code pulling random odd numbers, it will print the the number it lands on breaking the loop."
   ]
  },
  {
   "cell_type": "code",
   "execution_count": null,
   "id": "19b620f6-caee-4073-99bb-d42af3c914b2",
   "metadata": {},
   "outputs": [],
   "source": []
  }
 ],
 "metadata": {
  "kernelspec": {
   "display_name": "Python 3 (ipykernel)",
   "language": "python",
   "name": "python3"
  },
  "language_info": {
   "codemirror_mode": {
    "name": "ipython",
    "version": 3
   },
   "file_extension": ".py",
   "mimetype": "text/x-python",
   "name": "python",
   "nbconvert_exporter": "python",
   "pygments_lexer": "ipython3",
   "version": "3.11.7"
  }
 },
 "nbformat": 4,
 "nbformat_minor": 5
}
