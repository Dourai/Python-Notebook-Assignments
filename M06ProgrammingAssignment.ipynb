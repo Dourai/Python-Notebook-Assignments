{
 "cells": [
  {
   "cell_type": "code",
   "execution_count": 1,
   "id": "43dc4167-d3ee-405a-9db8-545a762509ba",
   "metadata": {},
   "outputs": [],
   "source": [
    "# Author: Daniel J. Ourai\n",
    "# Date: 4/23/24\n",
    "# Activity 13.1\n",
    "# Description this code writes the current date as a string to the text file today.txt\n",
    "\n",
    "from datetime import datetime\n",
    "\n",
    "# Write the current date as a string to the text file today.txt\n",
    "with open(\"today.txt\", \"w\") as file:\n",
    "    today_date = datetime.today().strftime(\"%Y-%m-%d\")\n",
    "    file.write(today_date)"
   ]
  },
  {
   "cell_type": "code",
   "execution_count": 2,
   "id": "3569db68-4ebd-4830-9291-85fa5649edc7",
   "metadata": {},
   "outputs": [],
   "source": [
    "# Author: Daniel J. Ourai\n",
    "# Date: 4/23/24\n",
    "# Activity 13.1\n",
    "# Description this code reads the text file today.txt into the string today_string\n",
    "\n",
    "with open(\"today.txt\", \"r\") as file:\n",
    "    today_string = file.read()"
   ]
  },
  {
   "cell_type": "code",
   "execution_count": 3,
   "id": "d9774807-cd49-4336-8133-2207cff40e96",
   "metadata": {},
   "outputs": [
    {
     "name": "stdout",
     "output_type": "stream",
     "text": [
      "2024-04-23 00:00:00\n"
     ]
    }
   ],
   "source": [
    "# Author: Daniel J. Ourai\n",
    "# Date: 4/23/24\n",
    "# Activity 13.1\n",
    "# Description:This code parses the date from today_string and prints said date.\n",
    "parsed_date = datetime.strptime(today_string, \"%Y-%m-%d\")\n",
    "print(parsed_date)"
   ]
  },
  {
   "cell_type": "code",
   "execution_count": 13,
   "id": "898a21f6-8e3f-4722-9178-d59eab839fa6",
   "metadata": {},
   "outputs": [
    {
     "name": "stdout",
     "output_type": "stream",
     "text": [
      "Parsed Date: 2024-04-23 00:00:00\n"
     ]
    }
   ],
   "source": [
    "# Author: Daniel J. Ourai\n",
    "# Date: 4/23/24\n",
    "# Activity 15.1\n",
    "# Description:This code builds off of the first three activities, using multiprocessing to create three separate processes. The code makes \n",
    "# each one waits a random number of seconds between zero and one, prints the current time, and then exits. \n",
    "import multiprocessing\n",
    "import time\n",
    "import random\n",
    "from datetime import datetime\n",
    "\n",
    "# Activity 13.1: Write the current date as a string to the text file today.txt.\n",
    "def write_current_date():\n",
    "    with open(\"today.txt\", \"w\") as file:\n",
    "        today_date = datetime.now().strftime(\"%Y-%m-%d\")\n",
    "        file.write(today_date)\n",
    "\n",
    "# Activity 13.2: Read the text file today.txt into the string today_string.\n",
    "def read_today_string():\n",
    "    with open(\"today.txt\", \"r\") as file:\n",
    "        today_string = file.read()\n",
    "    return today_string\n",
    "\n",
    "# Activity 13.3: Parse the date from today_string.\n",
    "def parse_date(today_string):\n",
    "    parsed_date = datetime.strptime(today_string, \"%Y-%m-%d\")\n",
    "    return parsed_date\n",
    "\n",
    "# Multiprocessing worker function\n",
    "def worker():\n",
    "    # Generate a random sleep time between 0 and 1 second\n",
    "    sleep_time = random.random()\n",
    "    \n",
    "    # Wait for the random amount of time\n",
    "    time.sleep(sleep_time)\n",
    "    \n",
    "    # Print the current time\n",
    "    current_time = datetime.now().strftime(\"%Y-%m-%d %H:%M:%S\")\n",
    "    print(f\"Process {multiprocessing.current_process().name}: Current time is {current_time}\")\n",
    "\n",
    "# Activity 15.1: Use multiprocessing to create three separate processes.\n",
    "def run_multiprocessing():\n",
    "    # Create three separate processes\n",
    "    processes = []\n",
    "    for i in range(3):\n",
    "        process = multiprocessing.Process(target=worker, name=f\"Worker-{i}\")\n",
    "        processes.append(process)\n",
    "        process.start()\n",
    "\n",
    "    # Wait for all processes to finish\n",
    "    for process in processes:\n",
    "        process.join()\n",
    "\n",
    "# Run the activities\n",
    "if __name__ == \"__main__\":\n",
    "    # Activity 13.1\n",
    "    write_current_date()\n",
    "    \n",
    "    # Activity 13.2\n",
    "    today_string = read_today_string()\n",
    "    \n",
    "    # Activity 13.3\n",
    "    parsed_date = parse_date(today_string)\n",
    "    print(\"Parsed Date:\", parsed_date)\n",
    "    \n",
    "    # Activity 13.4\n",
    "    run_multiprocessing()"
   ]
  },
  {
   "cell_type": "code",
   "execution_count": null,
   "id": "6bd84650-fb9b-486a-aaa4-949c814ab49f",
   "metadata": {},
   "outputs": [],
   "source": []
  }
 ],
 "metadata": {
  "kernelspec": {
   "display_name": "Python 3 (ipykernel)",
   "language": "python",
   "name": "python3"
  },
  "language_info": {
   "codemirror_mode": {
    "name": "ipython",
    "version": 3
   },
   "file_extension": ".py",
   "mimetype": "text/x-python",
   "name": "python",
   "nbconvert_exporter": "python",
   "pygments_lexer": "ipython3",
   "version": "3.11.7"
  }
 },
 "nbformat": 4,
 "nbformat_minor": 5
}
