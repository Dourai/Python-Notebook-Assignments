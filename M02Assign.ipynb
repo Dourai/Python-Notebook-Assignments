{
 "cells": [
  {
   "cell_type": "code",
   "execution_count": 7,
   "id": "b5bc66f8-42a7-4717-b654-9b98c98b416f",
   "metadata": {},
   "outputs": [
    {
     "name": "stdin",
     "output_type": "stream",
     "text": [
      "Guess the number between 1 and 10:  10\n"
     ]
    },
    {
     "name": "stdout",
     "output_type": "stream",
     "text": [
      "too high\n"
     ]
    },
    {
     "name": "stdin",
     "output_type": "stream",
     "text": [
      "Guess again:  7\n"
     ]
    },
    {
     "name": "stdout",
     "output_type": "stream",
     "text": [
      "too high\n"
     ]
    },
    {
     "name": "stdin",
     "output_type": "stream",
     "text": [
      "Guess again:  5\n"
     ]
    },
    {
     "name": "stdout",
     "output_type": "stream",
     "text": [
      "too high\n"
     ]
    },
    {
     "name": "stdin",
     "output_type": "stream",
     "text": [
      "Guess again:  4\n"
     ]
    },
    {
     "name": "stdout",
     "output_type": "stream",
     "text": [
      "too high\n"
     ]
    },
    {
     "name": "stdin",
     "output_type": "stream",
     "text": [
      "Guess again:  3\n"
     ]
    },
    {
     "name": "stdout",
     "output_type": "stream",
     "text": [
      "just right\n"
     ]
    }
   ],
   "source": [
    "#Author: Daniel J. Ourai\n",
    "# 4.1\n",
    "#The input() function prompts the user to enter a guess.\n",
    "#int(input()) is used to convert the input to an integer since input() returns a string by default.\n",
    "#The user's input will be compared to the secret number, and appropriate messages will be printed based on the comparison.\n",
    "import random\n",
    "\n",
    "#Secret number is selected and the user's guess is collected.\n",
    "secret = random.randint(1, 10)\n",
    "guess = int(input(\"Guess the number between 1 and 10: \"))\n",
    "\n",
    "#Conditions for determining a win result.\n",
    "while guess != secret:\n",
    "    if guess < secret:\n",
    "        print('too low')\n",
    "    else:\n",
    "        print('too high')\n",
    "    guess = int(input(\"Guess again: \"))\n",
    "\n",
    "#The user has guessed correctly.\n",
    "print('just right')"
   ]
  },
  {
   "cell_type": "markdown",
   "id": "00840623-1bc6-48e9-83c8-88ad90cdc479",
   "metadata": {},
   "source": [
    "Above is activity 4.1. In this activity, we created a program that selects a random number 1-10 and allows the user to guess that number until they are correct.\n"
   ]
  },
  {
   "cell_type": "code",
   "execution_count": 8,
   "id": "d8df77b9-d837-4488-bd53-ec0e77fd032e",
   "metadata": {},
   "outputs": [
    {
     "name": "stdout",
     "output_type": "stream",
     "text": [
      "watermelon\n"
     ]
    }
   ],
   "source": [
    "#Author: Daniel J. Ourai\n",
    "# 4.2\n",
    "#The small variable is set to True or False depending on whether the item is small or not.\n",
    "#The green variable is set to True or False depending on whether the item is green or not.\n",
    "#The if, elif, and else statements check combinations of small and green variables and print the corresponding item based on the conditions.\n",
    "\n",
    "#Size and color parameters are set.\n",
    "small = False\n",
    "green = True\n",
    "\n",
    "#This code qualifies the fruit that has been achived based on weather or not the parameters match their physical characterisitcs.\n",
    "if small and green:\n",
    "    print(\"pea\")\n",
    "elif small and not green:\n",
    "    print(\"cherry\")\n",
    "elif not small and green:\n",
    "    print(\"watermelon\")\n",
    "else:\n",
    "    print(\"pumpkin\")"
   ]
  },
  {
   "cell_type": "markdown",
   "id": "b44c12d4-c6e3-4806-8e49-e0f257dd48dc",
   "metadata": {},
   "source": [
    "Above is activity 4.2. In this activity, we created a sort of \"filtering\" program. This program allows you to set size and color parameters for fruit. In the program, any fruit that matches your size and color parameters will be printed."
   ]
  },
  {
   "cell_type": "code",
   "execution_count": 11,
   "id": "8e1a554c-ee4c-4a8a-b648-1f7144a910ec",
   "metadata": {},
   "outputs": [
    {
     "name": "stdout",
     "output_type": "stream",
     "text": [
      "3\n",
      "2\n",
      "1\n",
      "0\n"
     ]
    }
   ],
   "source": [
    "#Author: Daniel J. Ourai\n",
    "#6.1\n",
    "#This code will print each element of the list [3, 2, 1, 0] on a separate line.\n",
    "\n",
    "my_list = [3, 2, 1, 0]\n",
    "\n",
    "# Iterate over the list using a for loop\n",
    "for num in my_list:\n",
    "    print(num)"
   ]
  },
  {
   "cell_type": "markdown",
   "id": "9796de19-d19f-4c4b-bba4-be383cffa446",
   "metadata": {},
   "source": [
    "Above is activity 6.1. In this activity we created a program that simply print's the list of values \"3,2,1,0\" using a for loop.\n"
   ]
  },
  {
   "cell_type": "code",
   "execution_count": 14,
   "id": "bc4d7968-c374-419c-b107-41f89500c6e5",
   "metadata": {},
   "outputs": [
    {
     "name": "stdout",
     "output_type": "stream",
     "text": [
      "too low\n",
      "too low\n",
      "too low\n",
      "too low\n",
      "too low\n",
      "too low\n",
      "found it!\n"
     ]
    }
   ],
   "source": [
    "#Author: Daniel J. Ourai\n",
    "#6.2\n",
    "#guess_me was set to 7 and number to 1 as per the given instructions.\n",
    "#The while loop runs as long as number is less than or equal to guess_me.\n",
    "#Inside the loop, it compares number with guess_me:\n",
    "#If number is less than guess_me, it prints 'too low'.\n",
    "#If number equals guess_me, it prints 'found it!' and exits the loop using break.\n",
    "#If number is greater than guess_me, it prints 'oops' and exits the loop using break.\n",
    "#number is incremented at the end of each iteration of the loop.\n",
    "\n",
    "#guess_me and number values are set\n",
    "guess_me = 7\n",
    "number = 1\n",
    "\n",
    "#number is constantly compared to guess_me until the two numbers are equal.\n",
    "while number <= guess_me:\n",
    "    if number < guess_me:\n",
    "        print('too low')\n",
    "    elif number == guess_me:\n",
    "        print('found it!')\n",
    "        break\n",
    "    else:\n",
    "        print('oops')\n",
    "        break\n",
    "    number += 1\n"
   ]
  },
  {
   "cell_type": "markdown",
   "id": "2fb2f794-29a4-425d-abc0-c611a53e3861",
   "metadata": {},
   "source": [
    "Above is activity 6.2. In this activity we created a sort of \"guessing game\" again with numbers."
   ]
  },
  {
   "cell_type": "code",
   "execution_count": 16,
   "id": "8a0e26f1-2a2d-4779-b61a-e12a8c60464c",
   "metadata": {},
   "outputs": [
    {
     "name": "stdout",
     "output_type": "stream",
     "text": [
      "too low\n",
      "too low\n",
      "too low\n",
      "too low\n",
      "too low\n",
      "found it!\n"
     ]
    }
   ],
   "source": [
    "#Author: Daniel J. Ourai\n",
    "#6.3\n",
    "#guess_me was set to 5 as per the given instructions.\n",
    "#The for loop iterates over the numbers in the range from 0 to 9 (exclusive).\n",
    "#Inside the loop, it checks conditions based on the value of number:\n",
    "#If number is less than guess_me, it prints 'too low'.\n",
    "#If number equals guess_me, it prints 'found it!' and exits the loop using break.\n",
    "#If number is greater than guess_me, it prints 'oops' and exits the loop using break.\n",
    "\n",
    "#guess_me is assigned to the value 5.\n",
    "guess_me = 5\n",
    "\n",
    "#number to guess_me comparison.\n",
    "for number in range(10):\n",
    "    if number < guess_me:\n",
    "        print('too low')\n",
    "    elif number == guess_me:\n",
    "        print('found it!')\n",
    "        break\n",
    "    else:\n",
    "        print('oops')\n",
    "        break"
   ]
  },
  {
   "cell_type": "markdown",
   "id": "38a78b90-5623-4e5f-8aa9-0806327ed123",
   "metadata": {},
   "source": [
    "Above is activity 6.3. This activity utilized the same sort of program as the last, except with this one, we implemented the \"in range ()\" code."
   ]
  },
  {
   "cell_type": "code",
   "execution_count": null,
   "id": "e503e567-0959-47b3-a50b-2b7b9748856a",
   "metadata": {},
   "outputs": [],
   "source": []
  }
 ],
 "metadata": {
  "kernelspec": {
   "display_name": "Python 3 (ipykernel)",
   "language": "python",
   "name": "python3"
  },
  "language_info": {
   "codemirror_mode": {
    "name": "ipython",
    "version": 3
   },
   "file_extension": ".py",
   "mimetype": "text/x-python",
   "name": "python",
   "nbconvert_exporter": "python",
   "pygments_lexer": "ipython3",
   "version": "3.11.7"
  }
 },
 "nbformat": 4,
 "nbformat_minor": 5
}
