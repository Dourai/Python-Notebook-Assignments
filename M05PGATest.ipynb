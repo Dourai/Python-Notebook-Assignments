{
 "cells": [
  {
   "cell_type": "code",
   "execution_count": 10,
   "id": "4fc5ca51-cdc2-4306-a7be-c1404f99c24e",
   "metadata": {},
   "outputs": [
    {
     "name": "stderr",
     "output_type": "stream",
     "text": [
      ".F\n",
      "======================================================================\n",
      "FAIL: test_sum_tuple (__main__.TestSum.test_sum_tuple)\n",
      "----------------------------------------------------------------------\n",
      "Traceback (most recent call last):\n",
      "  File \"C:\\Users\\Danny\\AppData\\Local\\Temp\\ipykernel_36656\\2947532368.py\", line 13, in test_sum_tuple\n",
      "    self.assertEqual(sum((1, 2, 2)), 6, \"Should be 6\")\n",
      "AssertionError: 5 != 6 : Should be 6\n",
      "\n",
      "----------------------------------------------------------------------\n",
      "Ran 2 tests in 0.001s\n",
      "\n",
      "FAILED (failures=1)\n"
     ]
    },
    {
     "data": {
      "text/plain": [
       "<unittest.runner.TextTestResult run=2 errors=0 failures=1>"
      ]
     },
     "execution_count": 10,
     "metadata": {},
     "output_type": "execute_result"
    }
   ],
   "source": [
    "# Author: Daniel J. Ourai\n",
    "# Class: SDEV220\n",
    "# Activity: M05 Programming Assignment - Testing\n",
    "# Description: This code defines two test methods within a TestSum class, all of which are meant \n",
    "# to test the sum() function.\n",
    "import unittest\n",
    "\n",
    "class TestSum(unittest.TestCase):\n",
    "    def test_sum(self):\n",
    "        self.assertEqual(sum([1, 2, 5]), 8, \"Should be 8\")\n",
    "\n",
    "    def test_sum_tuple(self):\n",
    "        self.assertEqual(sum((1, 2, 2)), 6, \"Should be 6\")\n",
    "\n",
    "# Create a test suite\n",
    "def suite():\n",
    "    suite = unittest.TestSuite()\n",
    "    suite.addTest(TestSum('test_sum'))\n",
    "    suite.addTest(TestSum('test_sum_tuple'))\n",
    "    return suite\n",
    "\n",
    "# Run the test suite\n",
    "runner = unittest.TextTestRunner()\n",
    "runner.run(suite())"
   ]
  },
  {
   "cell_type": "markdown",
   "id": "a8c54cbb-ae4f-4e08-8f89-e272ebd50a4a",
   "metadata": {},
   "source": [
    "Above is the first acivity listed on the page in the \"Testing Your Code\" section. I had to stray off of the path of the tutorial in order to have the results printed in the notebook itself, but I am happy with the results! The output of the code shows that the first test case passed because the sum of 1,2, and 5 are 8. The second test case fails because 1,2, and 2 do not equal 6. "
   ]
  },
  {
   "cell_type": "code",
   "execution_count": 7,
   "id": "b73495e7-4d7b-41ba-a1c1-32cfb73c6480",
   "metadata": {},
   "outputs": [
    {
     "name": "stderr",
     "output_type": "stream",
     "text": [
      "F.\n",
      "======================================================================\n",
      "FAIL: test_list_fraction (test_my_sum.TestSum.test_list_fraction)\n",
      "Test that it can sum a list of fractions\n",
      "----------------------------------------------------------------------\n",
      "Traceback (most recent call last):\n",
      "  File \"C:\\Users\\Danny\\Python Note\\test_my_sum.py\", line 22, in test_list_fraction\n",
      "    self.assertEqual(result, 1)\n",
      "AssertionError: Fraction(9, 10) != Fraction(13, 10)\n",
      "\n",
      "----------------------------------------------------------------------\n",
      "Ran 2 tests in 0.002s\n",
      "\n",
      "FAILED (failures=1)\n"
     ]
    },
    {
     "ename": "SystemExit",
     "evalue": "True",
     "output_type": "error",
     "traceback": [
      "An exception has occurred, use %tb to see the full traceback.\n",
      "\u001b[1;31mSystemExit\u001b[0m\u001b[1;31m:\u001b[0m True\n"
     ]
    }
   ],
   "source": [
    "# Author: Daniel J. Ourai\n",
    "# Class: SDEV220\n",
    "# Activity: M05 Programming Assignment - Testing\n",
    "# Description: This code is a Python test script that aims to test the functionality of the sum() function, both with integer values and fractions.\n",
    "import os\n",
    "import sys\n",
    "import unittest\n",
    "from fractions import Fraction\n",
    "\n",
    "# Add the path to your project folder to sys.path\n",
    "project_path = r\"C:\\Users\\Danny\\Python Note\\project\"\n",
    "sys.path.append(project_path)\n",
    "\n",
    "# Import the sum function from my_sum package\n",
    "from my_sum import sum\n",
    "\n",
    "class TestSum(unittest.TestCase):\n",
    "    def test_list_int(self):\n",
    "        \"\"\"\n",
    "        Test that it can sum a list of integers\n",
    "        \"\"\"\n",
    "        data = [1, 2, 3]\n",
    "        result = sum(data)\n",
    "        self.assertEqual(result, 6)\n",
    "\n",
    "    def test_list_fraction(self):\n",
    "        \"\"\"\n",
    "        Test that it can sum a list of fractions\n",
    "        \"\"\"\n",
    "        data = [Fraction(1, 4), Fraction(1, 4), Fraction(2, 5)]\n",
    "        result = sum(data)\n",
    "        self.assertEqual(result, Fraction(13, 10))\n",
    "\n",
    "%run run_tests.py"
   ]
  },
  {
   "cell_type": "markdown",
   "id": "6d0f88ae-7755-4091-b254-bb2ff90ba967",
   "metadata": {},
   "source": [
    "Above are the activities for both the \"Writing Your First Test\" and the \"Executing Your First Test\" sections of the webpage. Here, I wrote my own tests and even tested the code's ability to work with fractions. Due to the tutorial not being written for the specific case of replicating the code in jupiter notebook, I had to include python terminal commands directly into the code. I did run into some issues with these activities for the reason mentioned above, but I did get it to work correctly (at least I think)! The output shows the results of the first test come back without error because the answer is correct, the second test however fails due to the result not being correct (by design).\n"
   ]
  },
  {
   "cell_type": "markdown",
   "id": "a00b62e8-35ea-4b73-ab17-70e963b19fe2",
   "metadata": {},
   "source": [
    "Overall, I struggled mainly due to the fact that I had to sort of tinker with the code due to many errors (even though I was following the tutorial closely) I was having. I think this was due to some confusion caused by the instructions not including Python Notebook specific tasks/instructions. I did acheive the end result as far as I can tell, and I hope the way I chose to do it is not an issue!"
   ]
  }
 ],
 "metadata": {
  "kernelspec": {
   "display_name": "Python 3 (ipykernel)",
   "language": "python",
   "name": "python3"
  },
  "language_info": {
   "codemirror_mode": {
    "name": "ipython",
    "version": 3
   },
   "file_extension": ".py",
   "mimetype": "text/x-python",
   "name": "python",
   "nbconvert_exporter": "python",
   "pygments_lexer": "ipython3",
   "version": "3.11.7"
  }
 },
 "nbformat": 4,
 "nbformat_minor": 5
}
