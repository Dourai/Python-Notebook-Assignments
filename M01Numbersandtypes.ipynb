{
 "cells": [
  {
   "cell_type": "code",
   "execution_count": 2,
   "id": "3d52eba5-b62d-4c85-8e05-a67c9b603c99",
   "metadata": {},
   "outputs": [
    {
     "name": "stdout",
     "output_type": "stream",
     "text": [
      "3600\n"
     ]
    }
   ],
   "source": [
    "60 * 60"
   ]
  },
  {
   "cell_type": "markdown",
   "id": "31c4b8f5-02b2-4a48-b6c2-a825b5309770",
   "metadata": {},
   "source": [
    "Above is activity 3.1. The number of seconds in a minute are multiplied by the number of minutes in an hour."
   ]
  },
  {
   "cell_type": "code",
   "execution_count": 5,
   "id": "642714ad-b982-4c74-a114-015656eacab7",
   "metadata": {},
   "outputs": [
    {
     "name": "stdout",
     "output_type": "stream",
     "text": [
      "3600\n"
     ]
    }
   ],
   "source": [
    "seconds_per_hour = 60 * 60\n",
    "print(seconds_per_hour)"
   ]
  },
  {
   "cell_type": "markdown",
   "id": "3b72a4a2-76a6-4691-abbf-2a751559020c",
   "metadata": {},
   "source": [
    "Above is activity 3.2. The results from the previous calculation in activity 3.1 are now assigned to a variable called \"seconds_per_hour\"."
   ]
  },
  {
   "cell_type": "code",
   "execution_count": 7,
   "id": "fd4e086d-9374-400b-904f-c33b1be0c583",
   "metadata": {},
   "outputs": [
    {
     "name": "stdout",
     "output_type": "stream",
     "text": [
      "86400\n"
     ]
    }
   ],
   "source": [
    "sum = seconds_per_hour * 24\n",
    "print(sum)"
   ]
  },
  {
   "cell_type": "markdown",
   "id": "dc84d701-f77b-4c1d-ad08-dec8ad9acca8",
   "metadata": {},
   "source": [
    "Above is activity 3.3. Using the seconds_per_hour variable, we are able to find the number of seconds in a day by multiplying the number of seconds in an hour by 24 as there are 24 hours in a single day."
   ]
  },
  {
   "cell_type": "code",
   "execution_count": 8,
   "id": "51358937-1a5c-4f5e-8267-630ae4dad307",
   "metadata": {},
   "outputs": [
    {
     "name": "stdout",
     "output_type": "stream",
     "text": [
      "86400\n"
     ]
    }
   ],
   "source": [
    "seconds_per_day = seconds_per_hour * 24\n",
    "print(seconds_per_day)"
   ]
  },
  {
   "cell_type": "markdown",
   "id": "da88247c-602a-4cb8-95c6-655399d0d44a",
   "metadata": {},
   "source": [
    "Above is activity 3.4. The result of the caluculation that will find the number of seconds in a day is saved as a variable called \"seconds_per_day\"."
   ]
  },
  {
   "cell_type": "code",
   "execution_count": 9,
   "id": "20176d61-28ff-4133-a701-8c2c1fe8df01",
   "metadata": {},
   "outputs": [
    {
     "name": "stdout",
     "output_type": "stream",
     "text": [
      "24.0\n"
     ]
    }
   ],
   "source": [
    "result = seconds_per_day / seconds_per_hour\n",
    "print(result)"
   ]
  },
  {
   "cell_type": "markdown",
   "id": "a5225bdd-8851-45bd-a277-ff406cee8ab6",
   "metadata": {},
   "source": [
    "Above is activty 3.5. the number of seconds per day has been divided by the number of seconds per hour using our previously created variables."
   ]
  },
  {
   "cell_type": "code",
   "execution_count": 10,
   "id": "b03a4aec-bd2d-4339-a708-45e9e57344a5",
   "metadata": {},
   "outputs": [
    {
     "name": "stdout",
     "output_type": "stream",
     "text": [
      "24\n"
     ]
    }
   ],
   "source": [
    "result_integer_division = seconds_per_day // seconds_per_hour\n",
    "print(result_integer_division)"
   ]
  },
  {
   "cell_type": "markdown",
   "id": "c1ce3551-9e4e-4cbe-bc4c-8195c85fc56a",
   "metadata": {},
   "source": [
    "Above is activity 3.6. The number of seconds per day have been divided by the number of seconds per hour. \n",
    "This result does agree with the floating point value from the previous question."
   ]
  },
  {
   "cell_type": "code",
   "execution_count": null,
   "id": "253fde2c-bd03-4fd0-ade7-780301f6bd03",
   "metadata": {},
   "outputs": [],
   "source": []
  }
 ],
 "metadata": {
  "kernelspec": {
   "display_name": "Python 3 (ipykernel)",
   "language": "python",
   "name": "python3"
  },
  "language_info": {
   "codemirror_mode": {
    "name": "ipython",
    "version": 3
   },
   "file_extension": ".py",
   "mimetype": "text/x-python",
   "name": "python",
   "nbconvert_exporter": "python",
   "pygments_lexer": "ipython3",
   "version": "3.11.7"
  }
 },
 "nbformat": 4,
 "nbformat_minor": 5
}
