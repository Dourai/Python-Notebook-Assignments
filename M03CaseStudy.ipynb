{
 "cells": [
  {
   "cell_type": "code",
   "execution_count": 3,
   "id": "587ed4ec-21c6-45fa-aa21-44e205ece45f",
   "metadata": {},
   "outputs": [
    {
     "name": "stdin",
     "output_type": "stream",
     "text": [
      "Enter vehicle type (car, truck, plane, boat, or broomstick):  Car\n",
      "Enter year:  2024\n",
      "Enter make:  Cadillac \n",
      "Enter model:  XTS\n",
      "Enter number of doors (2 or 4):  4\n",
      "Enter type of roof (solid or sun roof):  sun roof\n"
     ]
    },
    {
     "name": "stdout",
     "output_type": "stream",
     "text": [
      "\n",
      "Vehicle details:\n",
      "  Vehicle type: car\n",
      "  Year: 2024\n",
      "  Make: Cadillac\n",
      "  Model: XTS\n",
      "  Number of doors: 4\n",
      "  Type of roof: sun roof\n"
     ]
    }
   ],
   "source": [
    "#Author: Daniel J. Ourai\n",
    "#SDEV 220\n",
    "#M03 Lab - Case Study: Lists, Functions, and Classes.\n",
    "#Description: This application will ask the user for their classification of vehicle, the make, the model, the number of doors, and if the roof is solid or a sunroof.\n",
    "#The app will then re-print all of the information out to the user.\n",
    "\n",
    "\n",
    "class Vehicle:\n",
    "    def __init__(self, vehicle_type):\n",
    "        self.vehicle_type = vehicle_type\n",
    "\n",
    "#Validate vehicle specifications\n",
    "class Automobile(Vehicle):\n",
    "    def __init__(self, vehicle_type, year, make, model, doors, roof):\n",
    "        super().__init__(vehicle_type)\n",
    "        self.year = year\n",
    "        self.make = make\n",
    "        self.model = model\n",
    "        self.doors = doors\n",
    "        self.roof = roof\n",
    "\n",
    "#User prompts\n",
    "def main():\n",
    "    vehicle_type = input(\"Enter vehicle type (car, truck, plane, boat, or broomstick): \").strip().lower()\n",
    "    year = input(\"Enter year: \").strip()\n",
    "    make = input(\"Enter make: \").strip()\n",
    "    model = input(\"Enter model: \").strip()\n",
    "    doors = input(\"Enter number of doors (2 or 4): \").strip()\n",
    "    roof = input(\"Enter type of roof (solid or sun roof): \").strip()\n",
    "\n",
    "    # Validate number of doors input\n",
    "    while doors not in ['2', '4']:\n",
    "        print(\"Invalid number of doors. Please enter 2 or 4.\")\n",
    "        doors = input(\"Enter number of doors (2 or 4): \").strip()\n",
    "\n",
    "    # Validate roof type input\n",
    "    while roof not in ['solid', 'sun roof']:\n",
    "        print(\"Invalid roof type. Please enter solid or sun roof.\")\n",
    "        roof = input(\"Enter type of roof (solid or sun roof): \").strip()\n",
    "\n",
    "    auto = Automobile(vehicle_type, year, make, model, doors, roof)\n",
    "\n",
    "    print(\"\\nVehicle details:\")\n",
    "    print(\"  Vehicle type:\", auto.vehicle_type)\n",
    "    print(\"  Year:\", auto.year)\n",
    "    print(\"  Make:\", auto.make)\n",
    "    print(\"  Model:\", auto.model)\n",
    "    print(\"  Number of doors:\", auto.doors)\n",
    "    print(\"  Type of roof:\", auto.roof)\n",
    "\n",
    "\n",
    "if __name__ == \"__main__\":\n",
    "    main()"
   ]
  },
  {
   "cell_type": "code",
   "execution_count": null,
   "id": "a780bddf-6665-4520-a34b-a087f7986b28",
   "metadata": {},
   "outputs": [],
   "source": []
  }
 ],
 "metadata": {
  "kernelspec": {
   "display_name": "Python 3 (ipykernel)",
   "language": "python",
   "name": "python3"
  },
  "language_info": {
   "codemirror_mode": {
    "name": "ipython",
    "version": 3
   },
   "file_extension": ".py",
   "mimetype": "text/x-python",
   "name": "python",
   "nbconvert_exporter": "python",
   "pygments_lexer": "ipython3",
   "version": "3.11.7"
  }
 },
 "nbformat": 4,
 "nbformat_minor": 5
}
