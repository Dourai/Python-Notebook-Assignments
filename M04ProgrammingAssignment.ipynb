{
 "cells": [
  {
   "cell_type": "code",
   "execution_count": 4,
   "id": "e4b03725-31a4-476f-9b47-66e80ae2cd1d",
   "metadata": {},
   "outputs": [
    {
     "name": "stdout",
     "output_type": "stream",
     "text": [
      "Open 9-5 daily\n"
     ]
    }
   ],
   "source": [
    "import zoo\n",
    "zoo.hours()"
   ]
  },
  {
   "cell_type": "markdown",
   "id": "fa0bde33-ad64-4272-9c90-fa3b822288fd",
   "metadata": {},
   "source": [
    "Above is activity 11.1. In this activity we imported a module in order to display information that has already been defined in the \"zoo.py\" file."
   ]
  },
  {
   "cell_type": "code",
   "execution_count": 7,
   "id": "077e377d-a127-49e8-8002-0ecc51e3de57",
   "metadata": {},
   "outputs": [
    {
     "name": "stdout",
     "output_type": "stream",
     "text": [
      "Open 9-5 daily\n"
     ]
    }
   ],
   "source": [
    ">>> import zoo as menagerie\n",
    ">>> menagerie.hours()\n"
   ]
  },
  {
   "cell_type": "markdown",
   "id": "281ae76a-17d3-487c-920a-7f771bce8d94",
   "metadata": {},
   "source": [
    "Above is acitivty 11.2. In this activity we imported the zoo function as menagerie and called it's hours() function."
   ]
  },
  {
   "cell_type": "code",
   "execution_count": 9,
   "id": "d352f39d-7b77-4400-ba5e-ec739a11fd5d",
   "metadata": {},
   "outputs": [
    {
     "name": "stdout",
     "output_type": "stream",
     "text": [
      "Titles of books in alphabetical order:\n",
      "Perdido Street Station\n",
      "Small Gods\n",
      "The Spellman Files\n",
      "The Weirdstone of Brisingamen\n",
      "Thud!\n"
     ]
    }
   ],
   "source": [
    "import sqlite3\n",
    "\n",
    "# Connect to the SQLite database\n",
    "conn = sqlite3.connect('books.db')\n",
    "\n",
    "# Create a cursor object to execute SQL commands\n",
    "cur = conn.cursor()\n",
    "\n",
    "# Execute a SELECT query to fetch the titles of books in alphabetical order\n",
    "cur.execute(\"SELECT title FROM books ORDER BY title\")\n",
    "\n",
    "# Fetch all the results\n",
    "titles = cur.fetchall()\n",
    "\n",
    "# Print the titles of books in alphabetical order\n",
    "print(\"Titles of books in alphabetical order:\")\n",
    "for title in titles:\n",
    "    print(title[0])\n",
    "\n",
    "# Close the cursor and connection\n",
    "cur.close()\n",
    "conn.close()"
   ]
  },
  {
   "cell_type": "markdown",
   "id": "f04645f9-0305-4fd6-b1f7-2119a36b7b78",
   "metadata": {},
   "source": [
    "Above is activity 16.8. In this activity, we created and connected a .db file pertaining to books to the application. We then wrote code to print the book titles contained in the .db file in alphabetical order."
   ]
  },
  {
   "cell_type": "code",
   "execution_count": null,
   "id": "745caf56-9162-4b14-ad20-d56236648075",
   "metadata": {},
   "outputs": [],
   "source": []
  }
 ],
 "metadata": {
  "kernelspec": {
   "display_name": "Python 3 (ipykernel)",
   "language": "python",
   "name": "python3"
  },
  "language_info": {
   "codemirror_mode": {
    "name": "ipython",
    "version": 3
   },
   "file_extension": ".py",
   "mimetype": "text/x-python",
   "name": "python",
   "nbconvert_exporter": "python",
   "pygments_lexer": "ipython3",
   "version": "3.11.7"
  }
 },
 "nbformat": 4,
 "nbformat_minor": 5
}
