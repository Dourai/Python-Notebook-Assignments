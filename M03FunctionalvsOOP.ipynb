{
 "cells": [
  {
   "cell_type": "code",
   "execution_count": 9,
   "id": "5dcf1c2a-9ed8-4c02-88f6-9bd29898a9f2",
   "metadata": {},
   "outputs": [],
   "source": [
    "#Author: Daniel J. Ourai\n",
    "#Assignment Name: M03 Tutorial - Functional vs OOP programming (0s,1s,& 2s)\n",
    "#Date: 4/3/24\n",
    "#Description: This is the completed \"sort012\" function that will take an array \"arr\" and \"N\" as input parameters and sorts the array in-place. \n",
    "#This code will not take inputs or print anything as per the instructions in the tutorial, but rather, this is just one complete function for a code that would.\n",
    "\n",
    "def sort012(arr, N):\n",
    "    \n",
    "    # Initialize three pointers: low, mid, and high\n",
    "    # low: pointer for 0s section\n",
    "    # mid: pointer for 1s section\n",
    "    # high: pointer for 2s section\n",
    "    low = 0\n",
    "    mid = 0\n",
    "    high = N - 1\n",
    "\n",
    "    # Traverse the array until mid pointer crosses high pointer\n",
    "    while mid <= high:\n",
    "        \n",
    "        # If current element is 0, swap it with the element at low pointer\n",
    "        # Move low and mid pointers to the right\n",
    "        if arr[mid] == 0:\n",
    "            arr[low], arr[mid] = arr[mid], arr[low]\n",
    "            low += 1\n",
    "            mid += 1\n",
    "\n",
    "        # If current element is 1, just move mid pointer to the right\n",
    "        elif arr[mid] == 1:\n",
    "            mid += 1\n",
    "\n",
    "        # If current element is 2, swap it with the element at high pointer\n",
    "        # Move high pointer to the left\n",
    "        else:\n",
    "            arr[mid], arr[high] = arr[high], arr[mid]\n",
    "            high -= 1"
   ]
  },
  {
   "cell_type": "code",
   "execution_count": 8,
   "id": "55d342d4-da9b-45f6-83db-3e177a25749f",
   "metadata": {},
   "outputs": [],
   "source": [
    "#Author: Daniel J. Ourai\n",
    "#Assignment Name: M03 Tutorial - Functional vs OOP programming (Binary Search)\n",
    "#Date: 4/3/24\n",
    "#Description: This is the completed \"binarysearch()\" function. This function will take an array (arr), N, and K as input parameters and returns the index\n",
    "#of K in the array. If K is not present in the array, -1 is returned. As per the instructions, the input and print functions are not implemented, rather,\n",
    "#this is just the completed function and not the actual full code.\n",
    "\n",
    "def binarysearch(arr, N, K):\n",
    "\n",
    "    # Initialize left and right pointers\n",
    "    left = 0\n",
    "    right = N - 1\n",
    "\n",
    "    # Perform binary search until left pointer crosses or equals right pointer\n",
    "    while left <= right:\n",
    "        \n",
    "        # Calculate mid index\n",
    "        mid = (left + right) // 2\n",
    "\n",
    "        # If K is found at mid index, return mid\n",
    "        if arr[mid] == K:\n",
    "            return mid\n",
    "\n",
    "        # If K is greater than element at mid index, search in the right half\n",
    "        elif arr[mid] < K:\n",
    "            left = mid + 1\n",
    "\n",
    "        # If K is smaller than element at mid index, search in the left half\n",
    "        else:\n",
    "            right = mid - 1\n",
    "    \n",
    "    # If K is not present in the array\n",
    "    return -1"
   ]
  },
  {
   "cell_type": "code",
   "execution_count": null,
   "id": "4eb5a743-323b-41c5-98e7-615fceb9b8e8",
   "metadata": {},
   "outputs": [],
   "source": []
  }
 ],
 "metadata": {
  "kernelspec": {
   "display_name": "Python 3 (ipykernel)",
   "language": "python",
   "name": "python3"
  },
  "language_info": {
   "codemirror_mode": {
    "name": "ipython",
    "version": 3
   },
   "file_extension": ".py",
   "mimetype": "text/x-python",
   "name": "python",
   "nbconvert_exporter": "python",
   "pygments_lexer": "ipython3",
   "version": "3.11.7"
  }
 },
 "nbformat": 4,
 "nbformat_minor": 5
}
